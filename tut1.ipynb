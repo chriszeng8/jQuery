{
 "cells": [
  {
   "cell_type": "markdown",
   "metadata": {},
   "source": [
    "#jQuery Notes\n",
    "\n",
    "\n",
    "##1. Find item based on attribute\n",
    "https://www.youtube.com/watch?v=VOvLl03LQsU\n",
    "\n",
    "###equality  [attr_name=\"xyz\"]\n",
    "selects all elements with an attribute matching the specified value\n",
    "\n",
    "```$('[demo-attribute=\"demo-value\"]') ```\n",
    "\n",
    "###start with    [attr_name^=\"xyz\"]\n",
    "e.g.,\n",
    "\n",
    "\n",
    "###contain    [attr_name*=\"xyz\"]\n",
    "e.g.,\n",
    "```<h1 class=\"col-md-5\">hello</h1>```\n",
    "\n",
    "```$('h1[class*=\"md\"]')``` selects all the classes that contain word \"md\""
   ]
  },
  {
   "cell_type": "markdown",
   "metadata": {},
   "source": [
    "##2. Descendant and Parent-Child\n",
    "\n",
    "###Parent-Child (direct descent)\n",
    "The > between selectors indicates the parent/child relationship. With this relationship, the second item listed must be a direct child of the first item, with no other elements between the two.\n",
    "\n",
    "```// Selects all a elements that are direct descendants nav element\n",
    "$('nav > a')```\n",
    "\n",
    "\n",
    "###Descendant\n",
    "\n",
    "To select elements where the targeted element is a descendant of another element, regardless of how many levels exist between the two, simply put a space between the two selectors.\n",
    "\n",
    "\n",
    "```// Selects all a elements that are descendants nav element\n",
    "// The elements can appear anywhere inside of the element listed first\n",
    "$('nav a')```\n"
   ]
  },
  {
   "cell_type": "markdown",
   "metadata": {},
   "source": [
    "\n",
    "##3. this (DOM) in jQuery \n",
    "this is a DOM object, not a jQuery object. As a result, any of the jQuery methods we'd like to use aren't available, unless we convert it to a jQuery object by using the code below.\n",
    "\n",
    "\n",
    "var variableName = $(this);"
   ]
  },
  {
   "cell_type": "markdown",
   "metadata": {},
   "source": [
    "##4. each() function\n",
    "\n",
    "\n",
    "\n",
    "For/each is a common construct available in most programming environments. In a nutshell, what for/each does is instructs the runtime to grab each item in the collection, assign it to a variable that you declare, and then allow you to operate on that variable. Consider the following code:\n",
    "\n"
   ]
  },
  {
   "cell_type": "markdown",
   "metadata": {},
   "source": [
    "\n",
    "```$('.some-class').each(function(item) {\n",
    "\t// item will be a variable that will represent each object\n",
    "});```"
   ]
  }
 ],
 "metadata": {
  "kernelspec": {
   "display_name": "Python 2",
   "language": "python",
   "name": "python2"
  },
  "language_info": {
   "codemirror_mode": {
    "name": "ipython",
    "version": 2
   },
   "file_extension": ".py",
   "mimetype": "text/x-python",
   "name": "python",
   "nbconvert_exporter": "python",
   "pygments_lexer": "ipython2",
   "version": "2.7.10"
  }
 },
 "nbformat": 4,
 "nbformat_minor": 0
}
